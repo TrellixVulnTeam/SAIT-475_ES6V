{
  "nbformat": 4,
  "nbformat_minor": 0,
  "metadata": {
    "colab": {
      "name": "image_classification.ipynb",
      "provenance": [],
      "collapsed_sections": [],
      "include_colab_link": true
    },
    "kernelspec": {
      "name": "python3",
      "display_name": "Python 3"
    },
    "accelerator": "GPU"
  },
  "cells": [
    {
      "cell_type": "markdown",
      "metadata": {
        "id": "view-in-github",
        "colab_type": "text"
      },
      "source": [
        "<a href=\"https://colab.research.google.com/github/niroojen-thambimuthu/SAIT-475/blob/master/image_classification.ipynb\" target=\"_parent\"><img src=\"https://colab.research.google.com/assets/colab-badge.svg\" alt=\"Open In Colab\"/></a>"
      ]
    },
    {
      "cell_type": "code",
      "metadata": {
        "id": "P2QcfaMPFXke",
        "colab_type": "code",
        "colab": {}
      },
      "source": [
        "from google.colab import drive\n",
        "drive.mount('/content/drive')"
      ],
      "execution_count": null,
      "outputs": []
    },
    {
      "cell_type": "code",
      "metadata": {
        "id": "8igDIHriLaiU",
        "colab_type": "code",
        "colab": {}
      },
      "source": [
        "! zip -s- \"/content/drive/My Drive/DATA-475/plant-seedlings-classification.zip\" -O plant-seedlings-classification.zip\n",
        "! unzip plant-seedlings-classification.zip -d plant-seedlings-classification"
      ],
      "execution_count": null,
      "outputs": []
    },
    {
      "cell_type": "code",
      "metadata": {
        "id": "eza5v8RPWtRw",
        "colab_type": "code",
        "colab": {}
      },
      "source": [
        "import os\n",
        "import warnings\n",
        "warnings.filterwarnings(\"ignore\")\n",
        "\n",
        "labels = os.listdir(\"plant-seedlings-classification/train\")\n",
        "print(labels)"
      ],
      "execution_count": null,
      "outputs": []
    },
    {
      "cell_type": "code",
      "metadata": {
        "id": "pMxvdmHXWNd0",
        "colab_type": "code",
        "colab": {}
      },
      "source": [
        "import numpy as np\n",
        "import matplotlib.pyplot as plt\n",
        "from PIL import Image\n",
        "\n",
        "\n",
        "fig, axs = plt.subplots(nrows=3, ncols=4)\n",
        "fig.tight_layout()\n",
        "for index, label in enumerate(labels):\n",
        "    image = np.random.choice(os.listdir(f\"plant-seedlings-classification/train/{label}\"))\n",
        "    im = Image.open(f\"plant-seedlings-classification/train/{label}/{image}\")\n",
        "    ind = int(index/4), index % 4\n",
        "    axs[ind].imshow(im)\n",
        "    axs[ind].set_title(label.replace(\" \", \"\\n\"))\n",
        "    axs[ind].axis(\"off\")"
      ],
      "execution_count": null,
      "outputs": []
    },
    {
      "cell_type": "code",
      "metadata": {
        "id": "rxLrh3C4XBlz",
        "colab_type": "code",
        "colab": {}
      },
      "source": [
        "from fastai.vision import *\n",
        "from fastai.metrics import accuracy\n",
        "\n",
        "# Use from_folder factory method from ImageDataBunch to create a dataset\n",
        "# configure: \n",
        "#   path\n",
        "#   size\n",
        "#   ds_tfms, to flip the image randomly and allow fliping vertically\n",
        "#   valid_pct， 20%\n",
        "\n",
        "path = \"/content/plant-seedlings-classification\"\n",
        "# size = 224\n",
        "# bs = 64\n",
        "\n",
        "# data = ImageDataBunch.from_folder(\n",
        "#     path,\n",
        "#     train=\"train\",\n",
        "#     test=\"test\",\n",
        "#     ds_tfms=get_transforms(do_flip=True, flip_vert=True),\n",
        "#     valid_pct=.2,\n",
        "#     size=size,\n",
        "#     bs=bs\n",
        "# )\n",
        "\n",
        "data = ImageDataBunch.from_folder(\n",
        "    \"/content/plant-seedlings-classification\",\n",
        "    train=\"train\",\n",
        "    test=\"test\",\n",
        "    ds_tfms=get_transforms(do_flip=True, flip_vert=True),\n",
        "    valid_pct=.2,\n",
        "    size=224,\n",
        "    bs=64,\n",
        ")"
      ],
      "execution_count": null,
      "outputs": []
    },
    {
      "cell_type": "code",
      "metadata": {
        "id": "Vw6DQeAXXac5",
        "colab_type": "code",
        "colab": {}
      },
      "source": [
        "# normalize with imagenet_stats\n",
        "data.normalize(imagenet_stats)"
      ],
      "execution_count": null,
      "outputs": []
    },
    {
      "cell_type": "code",
      "metadata": {
        "id": "qU2AbgPRXkD-",
        "colab_type": "code",
        "colab": {}
      },
      "source": [
        "# create a CNN learner named \"learner\" with resnet34\n",
        "learner = cnn_learner(data, models.resnet34, metrics=[accuracy])"
      ],
      "execution_count": null,
      "outputs": []
    },
    {
      "cell_type": "code",
      "metadata": {
        "id": "QhwQFm7kXmm_",
        "colab_type": "code",
        "colab": {}
      },
      "source": [
        "# find a learning rate\n",
        "learner.lr_find()\n",
        "learner.recorder.plot(suggestion=True)"
      ],
      "execution_count": null,
      "outputs": []
    },
    {
      "cell_type": "code",
      "metadata": {
        "id": "Pad8re1A4exo",
        "colab_type": "code",
        "colab": {}
      },
      "source": [
        "# fit one cycle\n",
        "lr = learner.recorder.min_grad_lr\n",
        "learner.fit_one_cycle(8, lr)"
      ],
      "execution_count": null,
      "outputs": []
    },
    {
      "cell_type": "code",
      "metadata": {
        "id": "it_kpwY3ZEpL",
        "colab_type": "code",
        "colab": {}
      },
      "source": [
        "# interpret the result and see the most confused classess\n",
        "interp = ClassificationInterpretation.from_learner(learner)\n",
        "interp.most_confused(min_val=2)"
      ],
      "execution_count": null,
      "outputs": []
    },
    {
      "cell_type": "code",
      "metadata": {
        "id": "Hv3sVlZYZQJQ",
        "colab_type": "code",
        "colab": {}
      },
      "source": [
        "# fine tune the model and check the result again\n",
        "interp.plot_confusion_matrix(figsize=(12, 12))"
      ],
      "execution_count": null,
      "outputs": []
    }
  ]
}
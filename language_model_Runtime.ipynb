{
  "nbformat": 4,
  "nbformat_minor": 0,
  "metadata": {
    "colab": {
      "name": "language_model.ipynb",
      "provenance": [],
      "collapsed_sections": [],
      "include_colab_link": true
    },
    "kernelspec": {
      "name": "python3",
      "display_name": "Python 3"
    },
    "accelerator": "GPU"
  },
  "cells": [
    {
      "cell_type": "markdown",
      "metadata": {
        "id": "view-in-github",
        "colab_type": "text"
      },
      "source": [
        "<a href=\"https://colab.research.google.com/github/niroojen-thambimuthu/SAIT-475/blob/master/language_model_Runtime.ipynb\" target=\"_parent\"><img src=\"https://colab.research.google.com/assets/colab-badge.svg\" alt=\"Open In Colab\"/></a>"
      ]
    },
    {
      "cell_type": "code",
      "metadata": {
        "id": "yTA7r-UtLIkk",
        "colab_type": "code",
        "colab": {
          "base_uri": "https://localhost:8080/",
          "height": 122
        },
        "outputId": "1212d75c-28b2-473a-8ddd-cc8b9981804a"
      },
      "source": [
        "from google.colab import drive\n",
        "drive.mount('/content/drive')"
      ],
      "execution_count": 1,
      "outputs": [
        {
          "output_type": "stream",
          "text": [
            "Go to this URL in a browser: https://accounts.google.com/o/oauth2/auth?client_id=947318989803-6bn6qk8qdgf4n4g3pfee6491hc0brc4i.apps.googleusercontent.com&redirect_uri=urn%3aietf%3awg%3aoauth%3a2.0%3aoob&response_type=code&scope=email%20https%3a%2f%2fwww.googleapis.com%2fauth%2fdocs.test%20https%3a%2f%2fwww.googleapis.com%2fauth%2fdrive%20https%3a%2f%2fwww.googleapis.com%2fauth%2fdrive.photos.readonly%20https%3a%2f%2fwww.googleapis.com%2fauth%2fpeopleapi.readonly\n",
            "\n",
            "Enter your authorization code:\n",
            "··········\n",
            "Mounted at /content/drive\n"
          ],
          "name": "stdout"
        }
      ]
    },
    {
      "cell_type": "code",
      "metadata": {
        "id": "hgjoDE-OJRgI",
        "colab_type": "code",
        "colab": {}
      },
      "source": [
        "from fastai.text import *\n",
        "\n",
        "path = \"/content/drive/My Drive/DATA-475/imdb\""
      ],
      "execution_count": 2,
      "outputs": []
    },
    {
      "cell_type": "code",
      "metadata": {
        "id": "Ng9a7n9kste4",
        "colab_type": "code",
        "colab": {
          "base_uri": "https://localhost:8080/",
          "height": 17
        },
        "outputId": "d76383fd-c2f7-47d0-b5d7-f02f8fe77ebd"
      },
      "source": [
        "# create TextLMDataBunch using the csv in path\n",
        "#     remember to specify the text column\n",
        "data_lm = TextLMDataBunch.from_csv(\n",
        "    path,\n",
        "    \"train.csv\",\n",
        "    text_cols=\"review\"\n",
        ")"
      ],
      "execution_count": 3,
      "outputs": [
        {
          "output_type": "display_data",
          "data": {
            "text/html": [
              ""
            ],
            "text/plain": [
              "<IPython.core.display.HTML object>"
            ]
          },
          "metadata": {
            "tags": []
          }
        },
        {
          "output_type": "display_data",
          "data": {
            "text/html": [
              ""
            ],
            "text/plain": [
              "<IPython.core.display.HTML object>"
            ]
          },
          "metadata": {
            "tags": []
          }
        }
      ]
    },
    {
      "cell_type": "code",
      "metadata": {
        "id": "jofMHyCZ5ixd",
        "colab_type": "code",
        "colab": {}
      },
      "source": [
        ""
      ],
      "execution_count": 3,
      "outputs": []
    },
    {
      "cell_type": "code",
      "metadata": {
        "id": "NCVGVEOWsS_G",
        "colab_type": "code",
        "colab": {
          "base_uri": "https://localhost:8080/",
          "height": 17
        },
        "outputId": "444df873-383f-43bc-cc5a-1641152a1c7c"
      },
      "source": [
        "# create TextClasDataBunch using the csv in path\n",
        "#     remember to specify the text/label column\n",
        "#     specify test dataset, vocab, and bs\n",
        "data_clas = TextClasDataBunch.from_csv(\n",
        "    path,\n",
        "    \"train.csv\",\n",
        "    test=\"test.csv\",\n",
        "    text_cols=\"review\",\n",
        "    label_cols=\"sentiment\",\n",
        "    vocab=data_lm.train_ds.vocab,\n",
        "    bs=32\n",
        ")"
      ],
      "execution_count": 4,
      "outputs": [
        {
          "output_type": "display_data",
          "data": {
            "text/html": [
              ""
            ],
            "text/plain": [
              "<IPython.core.display.HTML object>"
            ]
          },
          "metadata": {
            "tags": []
          }
        },
        {
          "output_type": "display_data",
          "data": {
            "text/html": [
              ""
            ],
            "text/plain": [
              "<IPython.core.display.HTML object>"
            ]
          },
          "metadata": {
            "tags": []
          }
        },
        {
          "output_type": "display_data",
          "data": {
            "text/html": [
              ""
            ],
            "text/plain": [
              "<IPython.core.display.HTML object>"
            ]
          },
          "metadata": {
            "tags": []
          }
        }
      ]
    },
    {
      "cell_type": "code",
      "metadata": {
        "id": "3fLINWLs7b4y",
        "colab_type": "code",
        "colab": {}
      },
      "source": [
        ""
      ],
      "execution_count": 4,
      "outputs": []
    },
    {
      "cell_type": "code",
      "metadata": {
        "id": "WcrrDK7-aT0v",
        "colab_type": "code",
        "colab": {
          "base_uri": "https://localhost:8080/",
          "height": 34
        },
        "outputId": "3bad244d-86a9-4224-88ea-175b57ffcb7e"
      },
      "source": [
        "# create language model learner with AWD_LSTM architecture and drop_mult of 0.5\n",
        "lm_learner = language_model_learner(data_lm, arch=AWD_LSTM, drop_mult=0.5)"
      ],
      "execution_count": 5,
      "outputs": [
        {
          "output_type": "stream",
          "text": [
            "Downloading https://s3.amazonaws.com/fast-ai-modelzoo/wt103-fwd.tgz\n"
          ],
          "name": "stdout"
        },
        {
          "output_type": "display_data",
          "data": {
            "text/html": [
              ""
            ],
            "text/plain": [
              "<IPython.core.display.HTML object>"
            ]
          },
          "metadata": {
            "tags": []
          }
        }
      ]
    },
    {
      "cell_type": "code",
      "metadata": {
        "id": "XnMFnhvZVM8k",
        "colab_type": "code",
        "colab": {
          "base_uri": "https://localhost:8080/",
          "height": 408
        },
        "outputId": "50c25f75-62ae-4e36-cc5f-4b349fc099c3"
      },
      "source": [
        "# find a learing rate\n",
        "lm_learner.lr_find()\n",
        "lm_learner.recorder.plot(suggestion=True)"
      ],
      "execution_count": 6,
      "outputs": [
        {
          "output_type": "display_data",
          "data": {
            "text/html": [
              "\n",
              "    <div>\n",
              "        <style>\n",
              "            /* Turns off some styling */\n",
              "            progress {\n",
              "                /* gets rid of default border in Firefox and Opera. */\n",
              "                border: none;\n",
              "                /* Needs to be in here for Safari polyfill so background images work as expected. */\n",
              "                background-size: auto;\n",
              "            }\n",
              "            .progress-bar-interrupted, .progress-bar-interrupted::-webkit-progress-bar {\n",
              "                background: #F44336;\n",
              "            }\n",
              "        </style>\n",
              "      <progress value='0' class='' max='1' style='width:300px; height:20px; vertical-align: middle;'></progress>\n",
              "      0.00% [0/1 00:00<00:00]\n",
              "    </div>\n",
              "    \n",
              "<table border=\"1\" class=\"dataframe\">\n",
              "  <thead>\n",
              "    <tr style=\"text-align: left;\">\n",
              "      <th>epoch</th>\n",
              "      <th>train_loss</th>\n",
              "      <th>valid_loss</th>\n",
              "      <th>accuracy</th>\n",
              "      <th>time</th>\n",
              "    </tr>\n",
              "  </thead>\n",
              "  <tbody>\n",
              "  </tbody>\n",
              "</table><p>\n",
              "\n",
              "    <div>\n",
              "        <style>\n",
              "            /* Turns off some styling */\n",
              "            progress {\n",
              "                /* gets rid of default border in Firefox and Opera. */\n",
              "                border: none;\n",
              "                /* Needs to be in here for Safari polyfill so background images work as expected. */\n",
              "                background-size: auto;\n",
              "            }\n",
              "            .progress-bar-interrupted, .progress-bar-interrupted::-webkit-progress-bar {\n",
              "                background: #F44336;\n",
              "            }\n",
              "        </style>\n",
              "      <progress value='99' class='' max='1334' style='width:300px; height:20px; vertical-align: middle;'></progress>\n",
              "      7.42% [99/1334 00:18<03:44 11.8746]\n",
              "    </div>\n",
              "    "
            ],
            "text/plain": [
              "<IPython.core.display.HTML object>"
            ]
          },
          "metadata": {
            "tags": []
          }
        },
        {
          "output_type": "stream",
          "text": [
            "LR Finder is complete, type {learner_name}.recorder.plot() to see the graph.\n",
            "Min numerical gradient: 3.31E-06\n",
            "Min loss divided by 10: 3.98E-03\n"
          ],
          "name": "stdout"
        },
        {
          "output_type": "display_data",
          "data": {
            "image/png": "[encoded data removed]",
            "text/plain": [
              "<Figure size 432x288 with 1 Axes>"
            ]
          },
          "metadata": {
            "tags": [],
            "needs_background": "light"
          }
        }
      ]
    },
    {
      "cell_type": "code",
      "metadata": {
        "id": "B9DZ8FALAw7r",
        "colab_type": "code",
        "colab": {
          "base_uri": "https://localhost:8080/",
          "height": 111
        },
        "outputId": "c814d9b9-da09-441a-ccdf-7b30fa889320"
      },
      "source": [
        "# fit one cycle\n",
        "lr = lm_learner.recorder.min_grad_lr\n",
        "lm_learner.fit_one_cycle(2,lr)"
      ],
      "execution_count": 7,
      "outputs": [
        {
          "output_type": "display_data",
          "data": {
            "text/html": [
              "<table border=\"1\" class=\"dataframe\">\n",
              "  <thead>\n",
              "    <tr style=\"text-align: left;\">\n",
              "      <th>epoch</th>\n",
              "      <th>train_loss</th>\n",
              "      <th>valid_loss</th>\n",
              "      <th>accuracy</th>\n",
              "      <th>time</th>\n",
              "    </tr>\n",
              "  </thead>\n",
              "  <tbody>\n",
              "    <tr>\n",
              "      <td>0</td>\n",
              "      <td>4.705176</td>\n",
              "      <td>4.474645</td>\n",
              "      <td>0.263893</td>\n",
              "      <td>04:22</td>\n",
              "    </tr>\n",
              "    <tr>\n",
              "      <td>1</td>\n",
              "      <td>4.669322</td>\n",
              "      <td>4.468564</td>\n",
              "      <td>0.264349</td>\n",
              "      <td>04:22</td>\n",
              "    </tr>\n",
              "  </tbody>\n",
              "</table>"
            ],
            "text/plain": [
              "<IPython.core.display.HTML object>"
            ]
          },
          "metadata": {
            "tags": []
          }
        }
      ]
    },
    {
      "cell_type": "code",
      "metadata": {
        "id": "pHLWL-n690bu",
        "colab_type": "code",
        "colab": {}
      },
      "source": [
        ""
      ],
      "execution_count": 7,
      "outputs": []
    },
    {
      "cell_type": "code",
      "metadata": {
        "id": "3ZIbQuXSKS5V",
        "colab_type": "code",
        "colab": {}
      },
      "source": [
        "# save the encoder\n",
        "lm_learner.save_encoder(\"model\")"
      ],
      "execution_count": 8,
      "outputs": []
    },
    {
      "cell_type": "code",
      "metadata": {
        "id": "OFGrAyvQvXLH",
        "colab_type": "code",
        "colab": {
          "base_uri": "https://localhost:8080/",
          "height": 35
        },
        "outputId": "e0dc9779-7e70-424a-e177-7127e7b52da7"
      },
      "source": [
        "lm_learner.predict(\"this movie talks about Canadian\", n_words=20)"
      ],
      "execution_count": 9,
      "outputs": [
        {
          "output_type": "execute_result",
          "data": {
            "application/vnd.google.colaboratory.intrinsic+json": {
              "type": "string"
            },
            "text/plain": [
              "\"this movie talks about Canadian morality , is referred to as Roger Database style by the ABC 's Norse Constabulary\""
            ]
          },
          "metadata": {
            "tags": []
          },
          "execution_count": 9
        }
      ]
    },
    {
      "cell_type": "code",
      "metadata": {
        "id": "p-Jv0yyyJWmN",
        "colab_type": "code",
        "colab": {
          "base_uri": "https://localhost:8080/",
          "height": 1000
        },
        "outputId": "18490d07-b5d5-4a04-a2d2-ace28e4eb3d8"
      },
      "source": [
        "clas_learner = text_classifier_learner(data_clas, arch=AWD_LSTM, drop_mult=0.5)\n",
        "clas_learner.load_encoder(\"model\")"
      ],
      "execution_count": 10,
      "outputs": [
        {
          "output_type": "execute_result",
          "data": {
            "text/plain": [
              "RNNLearner(data=TextClasDataBunch;\n",
              "\n",
              "Train: LabelList (19999 items)\n",
              "x: TextList\n",
              "xxbos xxmaj this movie is a ripoff of xxmaj james xxmaj cain 's novel , xxup the xxup postman xxup always xxup rings xxup twice . xxmaj apparently , the director and producer never bothered to pay for rights to this story -- perhaps the fact that we were in the middle of fighting the xxmaj italians in xxup wwii might account for their forgetting to consider royalties ! xxmaj despite this , the movie is n't really just an xxmaj italian version of the xxmaj hollywood movie . xxmaj in some ways it 's a lot better and in other ways , it is definitely not . xxmaj the three central characters in this movie are really pretty ugly people . xxmaj in fact , the male and female lovers are a bit icky - looking . xxmaj the male lead is pretty ordinary except for his profuse body hair ( particularly on the back and shoulders ) and his lady love is , to put it frankly , unattractive . xxmaj they are a very , very far cry from xxmaj lana xxmaj turner and xxmaj john xxmaj garfield in the xxmaj hollywood version . xxmaj and the ill - fated husband is really , really obese and loves to walk around shirtless -- and his counterpart in the xxmaj american film , xxmaj cecil xxmaj kellaway is definitely better looking ( and probably better looking than the other two xxmaj italian leads , actually ) . xxmaj and this unattractiveness is generally a reason i actually preferred the xxmaj italian film -- since i just could xxup not imagine a finely coiffed \" dish \" like xxmaj lana xxmaj turner in the middle of nowhere married to xxmaj kellaway -- i am 100 % sure she would have had dozens of better offers ! xxmaj whereas , the xxmaj italian wife frankly might xxup not have been able to do much better and this made the marriage actually believable . xxmaj part of the xxmaj italian film 's believability comes from the blunt way it handles sex . xxmaj the sanitized xxmaj american film tries to make you believe that although xxmaj turner and xxmaj garfield kill xxmaj kellaway , they never actually get around to sex ! xxmaj this is pretty silly and totally unrealistic . xxmaj in addition to the casual sexuality of the film , it 's also pretty casual in showing the seamy side of life -- with lots of sweaty people , a fly strip hanging over the kitchen table and everyone appeared to need a bath . xxmaj the movie is also pretty fast - paced compared to the over - long xxmaj american film . xxmaj and what you get due to brevity is n't all good . xxmaj the film lacks a lot of the style and polish of the xxmaj american film -- with xxunk footage , relatively poor orchestration and sets . xxmaj it sure ai n't a pretty film , but the xxmaj neo - xxmaj realistic - like style makes the film seem more realistic . xxmaj but it can not make up for the short - cuts in the plot . xxmaj many of the plot elements in the later xxmaj american version are either missing entirely or glossed over . xxmaj and the ending seems a lot less interesting than the xxmaj american film -- and misses the entire human nature dilemma when xxmaj turner and xxmaj garfield turn on each other like rats ( the best part of the xxmaj american xxunk which is the better film ? xxmaj well , a lot of this probably depends on you . xxmaj as for me , the xxmaj warner xxmaj brothers film was simply too polished and too unrealistic ( though many like this style and may dislike watching films with xxunk it packed a great ending . xxmaj and the xxmaj italian film was much , much more realistic -- until the crappy ending that seemed too rushed . xxmaj so neither film is exactly great , but i 'd give my nod to the xxmaj italian one being a bit better . xxmaj it 's too bad they could n't have combined the best elements of both films into one exceptional film .,xxbos xxmaj here 's a horror version of xxup priscilla : xxup queen xxup of xxup the xxup desert ( they wish ! ) starring xxmaj melinda / xxmaj mindy ( xxup return xxup of xxup the xxup living xxup dead 3 ) xxmaj clarke as xxmaj candy , a desert dweller who pulls off a bank heist with boyfriend xxmaj johnny ( xxmaj jason xxmaj xxunk ) . xxmaj he ends up in a xxmaj south - of - the - border prison run by the sadistic xxmaj chief xxmaj screw ( an overacting xxmaj robert xxmaj englund in a toupee ) . xxmaj she and her beloved pet poodles end up in hiding at a gas station convent until they 're transformed by a newly fallen meteor . xxmaj the dogs turn into obnoxious drag queen \" bitches \" and xxmaj candy develops a xxup very long , talking , killing forked tongue she ca n't control . xxmaj thugs looking for the stolen loot and other assorted xxunk add extra complications . xxmaj first off , xxmaj clarke is fantastic and makes what there is to make of this movie . xxmaj you watch her and see someone very funny during the slapstick scenes , very convincing during the horror scenes and xxup very sexy in various wigs and disguises , including an eye - popping , skin tight latex bodysuit ... and wonder how come this actress is n't a huge star . xxmaj it 's too bad the rest of this cult attempt does n't live up to her promise . xxmaj blame director / scripter xxmaj sciamma , who thinks the outlandish premise alone is enough to sustain laughs ... but his vulgar gags , annoying supporting characters and stupid dialogue are no substitute for a real sense of humor . xxmaj another nail in the coffin ; the film looks cheap , lots of garish colors and sets are strangely muted by muddy photography and the dusty desert locales . xxmaj luckily for xxmaj sciamma that xxmaj clarke is in his film , because she alone keeps you watching .,xxbos 1 xxmaj how is it that everyone can understand each other perfectly without devices like universal translators or translator microbes ? xxmaj did the creators of this show realize that people who were taken from different parts of the earth , in different time frames ( xxmaj xxunk the xxmaj hun was n't a contemporary of xxunk xxmaj hellenic cultures , nor were the xxmaj vikings contemporary to the xxmaj pyramid builders ) speak different languages and can never develop a language so similar to modern day xxmaj xxunk for the inflections they \" do not \" use ) , which has been influenced by xxmaj latin , ancient xxmaj greek , xxmaj danish and xxmaj french ? 2 xxmaj cultural differences ca n't be overcome so easily , trust has to be won , yet everywhere the team arrives they are welcomed without any suspicion and start ordering people around like they are their appointed leaders . xxmaj of course real fans would comment that they are perceived as gods . xxmaj the people they meet should be shocked by their technology and accuse them of witchcraft and the xxunk xxmaj historical background : none . xxmaj visually it might vaguely remind you of xxmaj greek or xxmaj viking culture , but anyone can dress in a bunch of xxunk or run to a local costume rental for a plastic helmet with horns and claim to look the part . a small - town theater group probably has better xxunk xxmaj boring ! xxmaj another lame xxmaj canuck production , which inexplicably ran for ten long years . xxmaj as a kids show it could make the grade , but anyone who has a little knowledge about human behavior and language could n't bear to even watch the first twelve episodes of season 1 , like i just did . i very much wanted to believe i had found a decent sci - fi show , otherwise i would shut it of and cleansed my computer of this refuge after the first five minutes !,xxbos i am a kind person , so i gave this movie a 2 instead of a 1 . xxmaj it was without a doubt the worst movie that i 've seen in a long time . xxmaj there was very little plot and the deeper interesting areas that were touched upon i.e. what xxmaj jesus may really have wanted us to know , were glossed over and instead we were given heavy visual doses of sadistic punishment inflicted upon our heroine ( xxmaj arquette ) . xxmaj total crucifixion in the first 15 minutes would have been more humane to both her character and the audience . xxmaj the acting was barely there and the direction was uninspired . xxmaj and , if i saw one more drip of water or dove flying toward the camera , i may have started screaming louder than xxmaj patricia .,xxbos xxmaj it 's frequently said that movies can never equal the original book . xxmaj well , in this case , not only the movie is not \" as good \" as the book , but is an insult to the book . i 'd rather see xxmaj milan xxmaj kundera 's novel turned on fire than into this \" something , \" which the director probably calls \" adaptation . xxunk the beautiful philosophy that asks \" is it better to carry a heavy load on your shoulders , or cope with the unbearable lightness of being ? \" is put aside , and instead , all the movie deals with is xxmaj daniel xxmaj day xxmaj lewis ' ( i can not say xxmaj tomas ) sexual adventures with his dumb wife , his mistress , and his other mistresses . xxmaj françois xxmaj truffaut already said it : bad directors make bad movies . xxmaj do n't waste your time and money . xxmaj read the book instead , it 's really worth it .\n",
              "y: CategoryList\n",
              "positive,negative,negative,negative,negative\n",
              "Path: /content/drive/My Drive/DATA-475/imdb;\n",
              "\n",
              "Valid: LabelList (5001 items)\n",
              "x: TextList\n",
              "xxbos xxmaj david xxmaj webb xxmaj peoples meets xxmaj paul xxmaj anderson ... if it already sounds weird to you , then you are right , because it is . xxmaj peoples is known for his scripts with moral implications of what is right and wrong , the value of life , etc ... xxmaj he covered these issues in xxmaj bladerunner , xxmaj unforgiven , and pretty much in all of his screenplays there is something along those lines . xxmaj paul xxmaj anderson 's first successful movie was a violent thriller . xxmaj not surprisingly so have all of his other movies ! xxmaj and here is a violent thriller with moral xxunk ' script is quite apparent in the first half of the movie . xxmaj soldiers trained from birth , taught to kill , and never had a normal life . xxmaj they are replaced by better , genetically engineered soldiers and xxmaj todd , one of the original soldiers , is left on a planet and left for dead . xxmaj there he must cope with a group of refugees , some want him to stay others hate him and there is an interesting drama here . xxup but xxup then xxrep 6 . xxmaj the bullets start to fly as the new soldiers move onto the planet for a military exercise and try to kill all the people . xxmaj big , violent , loud action ensues and xxmaj peoples ' script turns into an xxmaj anderson action - fest . xxmaj it is hard to believe that the script was originally written that way , but the end product is better then i expected . xxmaj entertaining , somewhat , though admittedly not very , thought - provoking , and exciting once the action starts . 7 / 10rated r : a lot of violence,xxbos xxmaj lars xxmaj von xxmaj triers xxmaj europa is an extremely good film . xxmaj how 's that ? xxmaj von xxmaj trier has a very stylized way to tell a story , at least he did have with xxmaj europa . xxmaj to me the whole film was like an experience even if i did see it on a small television screen . xxmaj even with all the tricks , in my opinion , this film is the most complete , xxup real and moving piece of cinema then most of the films on the top 250 list . i also think it is perhaps the scariest , the most gothic and complete film around . xxmaj all right there are other good ones too , but this one is my favorite . xxmaj the final scene is one of the most harrowing scenes ever .,xxbos xxmaj have you ever felt like your being watched , like someone keeps xxunk on every move you make ? xxmaj well , just remember before you decide to break the law , the xxup fbi will always be there . xxmaj at least that 's the feeling you get after watching the gripping but slightly mellow crime drama , xxmaj the xxup fbi story . xxmaj it traces the roots of the organization from a small bureau to one of the most modern facilities in the world ( in 1959 ) , by telling the story through they eyes of one of its agents , xxmaj chip xxmaj hardesty ( xxmaj james xxunk was with the xxup fbi from day one , and he gladly puts his job above everything else in the world , even occasionally his family . xxmaj the xxup fbi xxmaj story tracks his life by depicting what he does as an agent , and how being one affects his personal life . xxmaj the film does a spectacular job of showing what kind of cases the xxup fbi handles and how they handle them . xxmaj the audience gets to see xxmaj chip stop xxmaj ku xxmaj klux xxmaj klan riots , go undercover to solve an xxmaj indian murder / estate scandal , bring fugitives into custody , rescue hostages , and helped fight in xxup wwii . xxmaj he even helped bring xxmaj communist spies to justice . xxmaj stewart , in a vaguely complex performance , is stellar ( as always ) as the slightly neurotic agent who loves his job maybe a little too much . xxmaj one of the best parts about this film is that we get to see the inside workings of both xxmaj chip 's family life and his job . xxmaj we witness him suffer through the death of his best friend and then his son . xxmaj we also observe his wife having a miscarriage , and his marriage having rocky times . xxmaj almost all of his personal problems are caused by love of his job . xxmaj vera xxmaj miles gives a spotty performance , but it 's very convincing , none the less . xxmaj she was never a brilliant actress , but there was always something very attractive and alluring about her . xxmaj well maybe that 's just me ? xxmaj sadly , none of the other performances are worth mentioning , but the attention - grabbing story managed to keep me exceedingly interested . xxmaj the cinematography of this film was impressive , especially the scenes in the xxmaj south xxmaj american jungles . xxmaj the colors all had a texture that really set the atmosphere of the film . xxmaj perhaps the greatest part of this movie was xxmaj mervyn xxmaj leroy 's fabulous direction . xxmaj every scene was so fluid they just rolled together to tell a brilliant story . xxmaj it 's chock full of ingenious camera shots , some with a very xxmaj hitchcockian feel . xxmaj all in all , xxmaj the xxup fbi xxmaj story is a spectacular , but overlooked film . xxmaj clocking in at two and a half hours some viewers might be intimidated , but if you get the chance i recommend jumping into this one . i enjoyed xxmaj jimmy xxmaj stewart 's spectacular performance , and the captivating story .,xxbos xxmaj in 1979 , i was a boy of 12 years old , xxmaj my parents had just got the home box office which was pretty new to our neighborhood . xxmaj as a 12 year old boy , this was the first time i saw boobs on television . i will never forget the joy of those times . xxmaj racing vans , the total ass - wipe with the baddest van , the water bed , the smoking of herbs , the hot 70 's chicks , the ' makin love in my xxmaj chevy van song , it was all so new to me . a complete movie with all of the memories you could hope for . i own it and enjoy it about once a year . xxmaj when i watch this movie , it makes me want to get my skates , with 4 wheels , not in a strait line , go to the park and hunt down some babes with feathered hair . truly great memories of young adolescence !,xxbos i must admit , i was one of the skeptics who prematurely judged this show before relatively any information was disseminated about it . i determined that it was going to be a cheap spin - off guided by xxmaj ronald xxup d. xxmaj moore wielding the xxunk - wand . i was xxunk pilot leaves an excellent impression upon the viewers . xxmaj the accessibility is marvelous ! xxmaj of course , seasoned xxup bsg veterans will find themselves immersed in the plot , which is focused on the development of the xxmaj cylons before the first xxmaj war . ( 58 years before the events of the xxup bsg pilot ) . xxmaj the pilot also allows for newcomers , clearly presenting its plot and ideas in the first part of the episode . xxmaj don't be mistaken : \" xxmaj caprica \" is not xxup bsg . xxmaj we are presented with an immersive , cerebral drama dotted by provocative , daring , and controversial ideas . xxmaj the casting maintains xxup bsg 's standards ; xxmaj stoltz and xxmaj morales are simply astounding . xxmaj morales ' portrayal of xxmaj joseph xxmaj adama , inspired by xxmaj olmos ' portrayal of xxmaj william , gives a wonderful glimpse of xxmaj william 's heroic father . xxmaj stoltz 's portrayal of xxmaj dr. xxmaj graystone provokes a lot of thinking and questions . xxmaj if the quality of the pilot is any indication of what 's yet to come , xxup xxunk and the creative team are set to continue xxup bsg 's legacy of first - rate television programming with another masterfully created television masterpiece .\n",
              "y: CategoryList\n",
              "positive,positive,positive,positive,positive\n",
              "Path: /content/drive/My Drive/DATA-475/imdb;\n",
              "\n",
              "Test: LabelList (25000 items)\n",
              "x: TextList\n",
              "xxbos i went and saw this movie last night after being coaxed to by a few friends of mine . i 'll admit that i was reluctant to see it because from what i knew of xxmaj ashton xxmaj kutcher he was only able to do comedy . i was wrong . xxmaj kutcher played the character of xxmaj jake xxmaj fischer very well , and xxmaj kevin xxmaj costner played xxmaj ben xxmaj randall with such professionalism . xxmaj the sign of a good movie is that it can toy with our emotions . xxmaj this one did exactly that . xxmaj the entire theater ( which was sold out ) was overcome by laughter during the first half of the movie , and were moved to tears during the second half . xxmaj while exiting the theater i not only saw many women in tears , but many full grown men as well , trying desperately not to let anyone see them crying . xxmaj this movie was great , and i suggest that you go see it before you judge .,xxbos xxmaj actor turned director xxmaj bill xxmaj paxton follows up his promising debut , the xxmaj gothic - horror \" xxmaj frailty \" , with this family friendly sports drama about the 1913 xxup u.s. xxmaj open where a young xxmaj american caddy rises from his humble background to play against his xxmaj xxunk idol in what was dubbed as \" xxmaj the xxmaj greatest xxmaj game xxmaj ever xxmaj played . \" i 'm no fan of golf , and these scrappy underdog sports flicks are a dime a dozen ( most recently done to grand effect with \" xxmaj miracle \" and \" xxmaj cinderella xxmaj man \" ) , but some how this film was enthralling all the same . xxmaj the film starts with some creative opening credits ( imagine a xxmaj disneyfied version of the animated opening credits of xxup hbo 's \" xxmaj carnivale \" and \" xxmaj rome \" ) , but lumbers along slowly for its first by - the - numbers hour . xxmaj once the action moves to the xxup u.s. xxmaj open things pick up very well . xxmaj paxton does a nice job and shows a knack for effective directorial flourishes ( i loved the rain - soaked montage of the action on day two of the open ) that propel the plot further or add some unexpected psychological depth to the proceedings . xxmaj there 's some compelling character development when the xxmaj british xxmaj harry xxmaj xxunk is haunted by images of the aristocrats in black suits and top hats who destroyed his family cottage as a child to make way for a golf course . xxmaj he also does a good job of visually depicting what goes on in the players ' heads under pressure . xxmaj golf , a painfully boring sport , is brought vividly alive here . xxmaj credit should also be given the set designers and costume department for creating an engaging period - piece atmosphere of xxmaj london and xxmaj boston at the beginning of the twentieth century . xxmaj you know how this is going to end not only because it 's based on a true story but also because films in this genre follow the same template over and over , but xxmaj paxton puts on a better than average show and perhaps indicates more talent behind the camera than he ever had in front of it . xxmaj despite the formulaic nature , this is a nice and easy film to root for that deserves to find an audience .,xxbos xxmaj as a recreational xxunk with some knowledge of the sport 's history , i was pleased with xxmaj disney 's sensitivity to the issues of class in golf in the early twentieth century . xxmaj the movie depicted well the psychological battles that xxmaj harry xxmaj xxunk fought within himself , from his childhood trauma of being evicted to his own inability to break that glass ceiling that prevents him from being accepted as an equal in xxmaj english golf society . xxmaj likewise , the young xxmaj xxunk goes through his own class struggles , being a mere caddie in the eyes of the upper crust xxmaj americans who scoff at his attempts to rise above his standing . xxmaj what i loved best , however , is how this theme of class is manifested in the characters of xxmaj xxunk 's parents . xxmaj his father is a working - class drone who sees the value of hard work but is intimidated by the upper class ; his mother , however , recognizes her son 's talent and desire and encourages him to pursue his dream of competing against those who think he is inferior . xxmaj finally , the golf scenes are well photographed . xxmaj although the course used in the movie was not the actual site of the historical tournament , the little liberties taken by xxmaj disney do not detract from the beauty of the film . xxmaj there 's one little xxmaj disney moment at the pool table ; otherwise , the viewer does not really think xxmaj disney . xxmaj the ending , as in \" xxmaj miracle , \" is not some xxmaj disney creation , but one that only human history could have written .,xxbos i saw this film in a sneak preview , and it is delightful . xxmaj the cinematography is unusually creative , the acting is good , and the story is fabulous . xxmaj if this movie does not do well , it wo n't be because it does n't deserve to . xxmaj before this film , i did n't realize how charming xxmaj shia xxmaj xxunk could be . xxmaj he does a marvelous , self - contained , job as the lead . xxmaj there 's something incredibly sweet about him , and it makes the movie even better . xxmaj the other actors do a good job as well , and the film contains moments of really high suspense , more than one might expect from a movie about golf . xxmaj sports movies are a dime a dozen , but this one stands out . xxmaj this is one i 'd recommend to anyone .,xxbos xxmaj bill xxmaj paxton has taken the true story of the 1913 xxup us golf open and made a film that is about much more than an extra - ordinary game of golf . xxmaj the film also deals directly with the class tensions of the early twentieth century and touches upon the profound anti - xxmaj catholic prejudices of both the xxmaj british and xxmaj american establishments . xxmaj but at heart the film is about that perennial favourite of triumph against the odds . xxmaj the acting is exemplary throughout . xxmaj stephen xxmaj xxunk is excellent as usual , but the revelation of the movie is xxmaj shia xxunk who delivers a disciplined , dignified and highly sympathetic performance as a working class xxmaj franco - xxmaj irish kid fighting his way through the prejudices of the xxmaj new xxmaj england xxup wasp establishment . xxmaj for those who are only familiar with his slap - stick performances in \" xxmaj even xxmaj stevens \" this demonstration of his maturity is a delightful surprise . xxmaj and xxmaj josh xxmaj flitter as the ten year old caddy threatens to steal every scene in which he appears . a old fashioned movie in the best sense of the word : fine acting , clear directing and a great story that grips to the end - the final scene an affectionate nod to xxmaj casablanca is just one of the many pleasures that fill a great movie .\n",
              "y: EmptyLabelList\n",
              ",,,,\n",
              "Path: /content/drive/My Drive/DATA-475/imdb, model=SequentialRNN(\n",
              "  (0): MultiBatchEncoder(\n",
              "    (module): AWD_LSTM(\n",
              "      (encoder): Embedding(44048, 400, padding_idx=1)\n",
              "      (encoder_dp): EmbeddingDropout(\n",
              "        (emb): Embedding(44048, 400, padding_idx=1)\n",
              "      )\n",
              "      (rnns): ModuleList(\n",
              "        (0): WeightDropout(\n",
              "          (module): LSTM(400, 1152, batch_first=True)\n",
              "        )\n",
              "        (1): WeightDropout(\n",
              "          (module): LSTM(1152, 1152, batch_first=True)\n",
              "        )\n",
              "        (2): WeightDropout(\n",
              "          (module): LSTM(1152, 400, batch_first=True)\n",
              "        )\n",
              "      )\n",
              "      (input_dp): RNNDropout()\n",
              "      (hidden_dps): ModuleList(\n",
              "        (0): RNNDropout()\n",
              "        (1): RNNDropout()\n",
              "        (2): RNNDropout()\n",
              "      )\n",
              "    )\n",
              "  )\n",
              "  (1): PoolingLinearClassifier(\n",
              "    (layers): Sequential(\n",
              "      (0): BatchNorm1d(1200, eps=1e-05, momentum=0.1, affine=True, track_running_stats=True)\n",
              "      (1): Dropout(p=0.2, inplace=False)\n",
              "      (2): Linear(in_features=1200, out_features=50, bias=True)\n",
              "      (3): ReLU(inplace=True)\n",
              "      (4): BatchNorm1d(50, eps=1e-05, momentum=0.1, affine=True, track_running_stats=True)\n",
              "      (5): Dropout(p=0.1, inplace=False)\n",
              "      (6): Linear(in_features=50, out_features=2, bias=True)\n",
              "    )\n",
              "  )\n",
              "), opt_func=functools.partial(<class 'torch.optim.adam.Adam'>, betas=(0.9, 0.99)), loss_func=FlattenedLoss of CrossEntropyLoss(), metrics=[<function accuracy at 0x7f352ad7a840>], true_wd=True, bn_wd=True, wd=0.01, train_bn=True, path=PosixPath('/content/drive/My Drive/DATA-475/imdb'), model_dir='models', callback_fns=[functools.partial(<class 'fastai.basic_train.Recorder'>, add_time=True, silent=False)], callbacks=[RNNTrainer\n",
              "learn: RNNLearner(data=TextClasDataBunch;\n",
              "\n",
              "Train: LabelList (19999 items)\n",
              "x: TextList\n",
              "xxbos xxmaj this movie is a ripoff of xxmaj james xxmaj cain 's novel , xxup the xxup postman xxup always xxup rings xxup twice . xxmaj apparently , the director and producer never bothered to pay for rights to this story -- perhaps the fact that we were in the middle of fighting the xxmaj italians in xxup wwii might account for their forgetting to consider royalties ! xxmaj despite this , the movie is n't really just an xxmaj italian version of the xxmaj hollywood movie . xxmaj in some ways it 's a lot better and in other ways , it is definitely not . xxmaj the three central characters in this movie are really pretty ugly people . xxmaj in fact , the male and female lovers are a bit icky - looking . xxmaj the male lead is pretty ordinary except for his profuse body hair ( particularly on the back and shoulders ) and his lady love is , to put it frankly , unattractive . xxmaj they are a very , very far cry from xxmaj lana xxmaj turner and xxmaj john xxmaj garfield in the xxmaj hollywood version . xxmaj and the ill - fated husband is really , really obese and loves to walk around shirtless -- and his counterpart in the xxmaj american film , xxmaj cecil xxmaj kellaway is definitely better looking ( and probably better looking than the other two xxmaj italian leads , actually ) . xxmaj and this unattractiveness is generally a reason i actually preferred the xxmaj italian film -- since i just could xxup not imagine a finely coiffed \" dish \" like xxmaj lana xxmaj turner in the middle of nowhere married to xxmaj kellaway -- i am 100 % sure she would have had dozens of better offers ! xxmaj whereas , the xxmaj italian wife frankly might xxup not have been able to do much better and this made the marriage actually believable . xxmaj part of the xxmaj italian film 's believability comes from the blunt way it handles sex . xxmaj the sanitized xxmaj american film tries to make you believe that although xxmaj turner and xxmaj garfield kill xxmaj kellaway , they never actually get around to sex ! xxmaj this is pretty silly and totally unrealistic . xxmaj in addition to the casual sexuality of the film , it 's also pretty casual in showing the seamy side of life -- with lots of sweaty people , a fly strip hanging over the kitchen table and everyone appeared to need a bath . xxmaj the movie is also pretty fast - paced compared to the over - long xxmaj american film . xxmaj and what you get due to brevity is n't all good . xxmaj the film lacks a lot of the style and polish of the xxmaj american film -- with xxunk footage , relatively poor orchestration and sets . xxmaj it sure ai n't a pretty film , but the xxmaj neo - xxmaj realistic - like style makes the film seem more realistic . xxmaj but it can not make up for the short - cuts in the plot . xxmaj many of the plot elements in the later xxmaj american version are either missing entirely or glossed over . xxmaj and the ending seems a lot less interesting than the xxmaj american film -- and misses the entire human nature dilemma when xxmaj turner and xxmaj garfield turn on each other like rats ( the best part of the xxmaj american xxunk which is the better film ? xxmaj well , a lot of this probably depends on you . xxmaj as for me , the xxmaj warner xxmaj brothers film was simply too polished and too unrealistic ( though many like this style and may dislike watching films with xxunk it packed a great ending . xxmaj and the xxmaj italian film was much , much more realistic -- until the crappy ending that seemed too rushed . xxmaj so neither film is exactly great , but i 'd give my nod to the xxmaj italian one being a bit better . xxmaj it 's too bad they could n't have combined the best elements of both films into one exceptional film .,xxbos xxmaj here 's a horror version of xxup priscilla : xxup queen xxup of xxup the xxup desert ( they wish ! ) starring xxmaj melinda / xxmaj mindy ( xxup return xxup of xxup the xxup living xxup dead 3 ) xxmaj clarke as xxmaj candy , a desert dweller who pulls off a bank heist with boyfriend xxmaj johnny ( xxmaj jason xxmaj xxunk ) . xxmaj he ends up in a xxmaj south - of - the - border prison run by the sadistic xxmaj chief xxmaj screw ( an overacting xxmaj robert xxmaj englund in a toupee ) . xxmaj she and her beloved pet poodles end up in hiding at a gas station convent until they 're transformed by a newly fallen meteor . xxmaj the dogs turn into obnoxious drag queen \" bitches \" and xxmaj candy develops a xxup very long , talking , killing forked tongue she ca n't control . xxmaj thugs looking for the stolen loot and other assorted xxunk add extra complications . xxmaj first off , xxmaj clarke is fantastic and makes what there is to make of this movie . xxmaj you watch her and see someone very funny during the slapstick scenes , very convincing during the horror scenes and xxup very sexy in various wigs and disguises , including an eye - popping , skin tight latex bodysuit ... and wonder how come this actress is n't a huge star . xxmaj it 's too bad the rest of this cult attempt does n't live up to her promise . xxmaj blame director / scripter xxmaj sciamma , who thinks the outlandish premise alone is enough to sustain laughs ... but his vulgar gags , annoying supporting characters and stupid dialogue are no substitute for a real sense of humor . xxmaj another nail in the coffin ; the film looks cheap , lots of garish colors and sets are strangely muted by muddy photography and the dusty desert locales . xxmaj luckily for xxmaj sciamma that xxmaj clarke is in his film , because she alone keeps you watching .,xxbos 1 xxmaj how is it that everyone can understand each other perfectly without devices like universal translators or translator microbes ? xxmaj did the creators of this show realize that people who were taken from different parts of the earth , in different time frames ( xxmaj xxunk the xxmaj hun was n't a contemporary of xxunk xxmaj hellenic cultures , nor were the xxmaj vikings contemporary to the xxmaj pyramid builders ) speak different languages and can never develop a language so similar to modern day xxmaj xxunk for the inflections they \" do not \" use ) , which has been influenced by xxmaj latin , ancient xxmaj greek , xxmaj danish and xxmaj french ? 2 xxmaj cultural differences ca n't be overcome so easily , trust has to be won , yet everywhere the team arrives they are welcomed without any suspicion and start ordering people around like they are their appointed leaders . xxmaj of course real fans would comment that they are perceived as gods . xxmaj the people they meet should be shocked by their technology and accuse them of witchcraft and the xxunk xxmaj historical background : none . xxmaj visually it might vaguely remind you of xxmaj greek or xxmaj viking culture , but anyone can dress in a bunch of xxunk or run to a local costume rental for a plastic helmet with horns and claim to look the part . a small - town theater group probably has better xxunk xxmaj boring ! xxmaj another lame xxmaj canuck production , which inexplicably ran for ten long years . xxmaj as a kids show it could make the grade , but anyone who has a little knowledge about human behavior and language could n't bear to even watch the first twelve episodes of season 1 , like i just did . i very much wanted to believe i had found a decent sci - fi show , otherwise i would shut it of and cleansed my computer of this refuge after the first five minutes !,xxbos i am a kind person , so i gave this movie a 2 instead of a 1 . xxmaj it was without a doubt the worst movie that i 've seen in a long time . xxmaj there was very little plot and the deeper interesting areas that were touched upon i.e. what xxmaj jesus may really have wanted us to know , were glossed over and instead we were given heavy visual doses of sadistic punishment inflicted upon our heroine ( xxmaj arquette ) . xxmaj total crucifixion in the first 15 minutes would have been more humane to both her character and the audience . xxmaj the acting was barely there and the direction was uninspired . xxmaj and , if i saw one more drip of water or dove flying toward the camera , i may have started screaming louder than xxmaj patricia .,xxbos xxmaj it 's frequently said that movies can never equal the original book . xxmaj well , in this case , not only the movie is not \" as good \" as the book , but is an insult to the book . i 'd rather see xxmaj milan xxmaj kundera 's novel turned on fire than into this \" something , \" which the director probably calls \" adaptation . xxunk the beautiful philosophy that asks \" is it better to carry a heavy load on your shoulders , or cope with the unbearable lightness of being ? \" is put aside , and instead , all the movie deals with is xxmaj daniel xxmaj day xxmaj lewis ' ( i can not say xxmaj tomas ) sexual adventures with his dumb wife , his mistress , and his other mistresses . xxmaj françois xxmaj truffaut already said it : bad directors make bad movies . xxmaj do n't waste your time and money . xxmaj read the book instead , it 's really worth it .\n",
              "y: CategoryList\n",
              "positive,negative,negative,negative,negative\n",
              "Path: /content/drive/My Drive/DATA-475/imdb;\n",
              "\n",
              "Valid: LabelList (5001 items)\n",
              "x: TextList\n",
              "xxbos xxmaj david xxmaj webb xxmaj peoples meets xxmaj paul xxmaj anderson ... if it already sounds weird to you , then you are right , because it is . xxmaj peoples is known for his scripts with moral implications of what is right and wrong , the value of life , etc ... xxmaj he covered these issues in xxmaj bladerunner , xxmaj unforgiven , and pretty much in all of his screenplays there is something along those lines . xxmaj paul xxmaj anderson 's first successful movie was a violent thriller . xxmaj not surprisingly so have all of his other movies ! xxmaj and here is a violent thriller with moral xxunk ' script is quite apparent in the first half of the movie . xxmaj soldiers trained from birth , taught to kill , and never had a normal life . xxmaj they are replaced by better , genetically engineered soldiers and xxmaj todd , one of the original soldiers , is left on a planet and left for dead . xxmaj there he must cope with a group of refugees , some want him to stay others hate him and there is an interesting drama here . xxup but xxup then xxrep 6 . xxmaj the bullets start to fly as the new soldiers move onto the planet for a military exercise and try to kill all the people . xxmaj big , violent , loud action ensues and xxmaj peoples ' script turns into an xxmaj anderson action - fest . xxmaj it is hard to believe that the script was originally written that way , but the end product is better then i expected . xxmaj entertaining , somewhat , though admittedly not very , thought - provoking , and exciting once the action starts . 7 / 10rated r : a lot of violence,xxbos xxmaj lars xxmaj von xxmaj triers xxmaj europa is an extremely good film . xxmaj how 's that ? xxmaj von xxmaj trier has a very stylized way to tell a story , at least he did have with xxmaj europa . xxmaj to me the whole film was like an experience even if i did see it on a small television screen . xxmaj even with all the tricks , in my opinion , this film is the most complete , xxup real and moving piece of cinema then most of the films on the top 250 list . i also think it is perhaps the scariest , the most gothic and complete film around . xxmaj all right there are other good ones too , but this one is my favorite . xxmaj the final scene is one of the most harrowing scenes ever .,xxbos xxmaj have you ever felt like your being watched , like someone keeps xxunk on every move you make ? xxmaj well , just remember before you decide to break the law , the xxup fbi will always be there . xxmaj at least that 's the feeling you get after watching the gripping but slightly mellow crime drama , xxmaj the xxup fbi story . xxmaj it traces the roots of the organization from a small bureau to one of the most modern facilities in the world ( in 1959 ) , by telling the story through they eyes of one of its agents , xxmaj chip xxmaj hardesty ( xxmaj james xxunk was with the xxup fbi from day one , and he gladly puts his job above everything else in the world , even occasionally his family . xxmaj the xxup fbi xxmaj story tracks his life by depicting what he does as an agent , and how being one affects his personal life . xxmaj the film does a spectacular job of showing what kind of cases the xxup fbi handles and how they handle them . xxmaj the audience gets to see xxmaj chip stop xxmaj ku xxmaj klux xxmaj klan riots , go undercover to solve an xxmaj indian murder / estate scandal , bring fugitives into custody , rescue hostages , and helped fight in xxup wwii . xxmaj he even helped bring xxmaj communist spies to justice . xxmaj stewart , in a vaguely complex performance , is stellar ( as always ) as the slightly neurotic agent who loves his job maybe a little too much . xxmaj one of the best parts about this film is that we get to see the inside workings of both xxmaj chip 's family life and his job . xxmaj we witness him suffer through the death of his best friend and then his son . xxmaj we also observe his wife having a miscarriage , and his marriage having rocky times . xxmaj almost all of his personal problems are caused by love of his job . xxmaj vera xxmaj miles gives a spotty performance , but it 's very convincing , none the less . xxmaj she was never a brilliant actress , but there was always something very attractive and alluring about her . xxmaj well maybe that 's just me ? xxmaj sadly , none of the other performances are worth mentioning , but the attention - grabbing story managed to keep me exceedingly interested . xxmaj the cinematography of this film was impressive , especially the scenes in the xxmaj south xxmaj american jungles . xxmaj the colors all had a texture that really set the atmosphere of the film . xxmaj perhaps the greatest part of this movie was xxmaj mervyn xxmaj leroy 's fabulous direction . xxmaj every scene was so fluid they just rolled together to tell a brilliant story . xxmaj it 's chock full of ingenious camera shots , some with a very xxmaj hitchcockian feel . xxmaj all in all , xxmaj the xxup fbi xxmaj story is a spectacular , but overlooked film . xxmaj clocking in at two and a half hours some viewers might be intimidated , but if you get the chance i recommend jumping into this one . i enjoyed xxmaj jimmy xxmaj stewart 's spectacular performance , and the captivating story .,xxbos xxmaj in 1979 , i was a boy of 12 years old , xxmaj my parents had just got the home box office which was pretty new to our neighborhood . xxmaj as a 12 year old boy , this was the first time i saw boobs on television . i will never forget the joy of those times . xxmaj racing vans , the total ass - wipe with the baddest van , the water bed , the smoking of herbs , the hot 70 's chicks , the ' makin love in my xxmaj chevy van song , it was all so new to me . a complete movie with all of the memories you could hope for . i own it and enjoy it about once a year . xxmaj when i watch this movie , it makes me want to get my skates , with 4 wheels , not in a strait line , go to the park and hunt down some babes with feathered hair . truly great memories of young adolescence !,xxbos i must admit , i was one of the skeptics who prematurely judged this show before relatively any information was disseminated about it . i determined that it was going to be a cheap spin - off guided by xxmaj ronald xxup d. xxmaj moore wielding the xxunk - wand . i was xxunk pilot leaves an excellent impression upon the viewers . xxmaj the accessibility is marvelous ! xxmaj of course , seasoned xxup bsg veterans will find themselves immersed in the plot , which is focused on the development of the xxmaj cylons before the first xxmaj war . ( 58 years before the events of the xxup bsg pilot ) . xxmaj the pilot also allows for newcomers , clearly presenting its plot and ideas in the first part of the episode . xxmaj don't be mistaken : \" xxmaj caprica \" is not xxup bsg . xxmaj we are presented with an immersive , cerebral drama dotted by provocative , daring , and controversial ideas . xxmaj the casting maintains xxup bsg 's standards ; xxmaj stoltz and xxmaj morales are simply astounding . xxmaj morales ' portrayal of xxmaj joseph xxmaj adama , inspired by xxmaj olmos ' portrayal of xxmaj william , gives a wonderful glimpse of xxmaj william 's heroic father . xxmaj stoltz 's portrayal of xxmaj dr. xxmaj graystone provokes a lot of thinking and questions . xxmaj if the quality of the pilot is any indication of what 's yet to come , xxup xxunk and the creative team are set to continue xxup bsg 's legacy of first - rate television programming with another masterfully created television masterpiece .\n",
              "y: CategoryList\n",
              "positive,positive,positive,positive,positive\n",
              "Path: /content/drive/My Drive/DATA-475/imdb;\n",
              "\n",
              "Test: LabelList (25000 items)\n",
              "x: TextList\n",
              "xxbos i went and saw this movie last night after being coaxed to by a few friends of mine . i 'll admit that i was reluctant to see it because from what i knew of xxmaj ashton xxmaj kutcher he was only able to do comedy . i was wrong . xxmaj kutcher played the character of xxmaj jake xxmaj fischer very well , and xxmaj kevin xxmaj costner played xxmaj ben xxmaj randall with such professionalism . xxmaj the sign of a good movie is that it can toy with our emotions . xxmaj this one did exactly that . xxmaj the entire theater ( which was sold out ) was overcome by laughter during the first half of the movie , and were moved to tears during the second half . xxmaj while exiting the theater i not only saw many women in tears , but many full grown men as well , trying desperately not to let anyone see them crying . xxmaj this movie was great , and i suggest that you go see it before you judge .,xxbos xxmaj actor turned director xxmaj bill xxmaj paxton follows up his promising debut , the xxmaj gothic - horror \" xxmaj frailty \" , with this family friendly sports drama about the 1913 xxup u.s. xxmaj open where a young xxmaj american caddy rises from his humble background to play against his xxmaj xxunk idol in what was dubbed as \" xxmaj the xxmaj greatest xxmaj game xxmaj ever xxmaj played . \" i 'm no fan of golf , and these scrappy underdog sports flicks are a dime a dozen ( most recently done to grand effect with \" xxmaj miracle \" and \" xxmaj cinderella xxmaj man \" ) , but some how this film was enthralling all the same . xxmaj the film starts with some creative opening credits ( imagine a xxmaj disneyfied version of the animated opening credits of xxup hbo 's \" xxmaj carnivale \" and \" xxmaj rome \" ) , but lumbers along slowly for its first by - the - numbers hour . xxmaj once the action moves to the xxup u.s. xxmaj open things pick up very well . xxmaj paxton does a nice job and shows a knack for effective directorial flourishes ( i loved the rain - soaked montage of the action on day two of the open ) that propel the plot further or add some unexpected psychological depth to the proceedings . xxmaj there 's some compelling character development when the xxmaj british xxmaj harry xxmaj xxunk is haunted by images of the aristocrats in black suits and top hats who destroyed his family cottage as a child to make way for a golf course . xxmaj he also does a good job of visually depicting what goes on in the players ' heads under pressure . xxmaj golf , a painfully boring sport , is brought vividly alive here . xxmaj credit should also be given the set designers and costume department for creating an engaging period - piece atmosphere of xxmaj london and xxmaj boston at the beginning of the twentieth century . xxmaj you know how this is going to end not only because it 's based on a true story but also because films in this genre follow the same template over and over , but xxmaj paxton puts on a better than average show and perhaps indicates more talent behind the camera than he ever had in front of it . xxmaj despite the formulaic nature , this is a nice and easy film to root for that deserves to find an audience .,xxbos xxmaj as a recreational xxunk with some knowledge of the sport 's history , i was pleased with xxmaj disney 's sensitivity to the issues of class in golf in the early twentieth century . xxmaj the movie depicted well the psychological battles that xxmaj harry xxmaj xxunk fought within himself , from his childhood trauma of being evicted to his own inability to break that glass ceiling that prevents him from being accepted as an equal in xxmaj english golf society . xxmaj likewise , the young xxmaj xxunk goes through his own class struggles , being a mere caddie in the eyes of the upper crust xxmaj americans who scoff at his attempts to rise above his standing . xxmaj what i loved best , however , is how this theme of class is manifested in the characters of xxmaj xxunk 's parents . xxmaj his father is a working - class drone who sees the value of hard work but is intimidated by the upper class ; his mother , however , recognizes her son 's talent and desire and encourages him to pursue his dream of competing against those who think he is inferior . xxmaj finally , the golf scenes are well photographed . xxmaj although the course used in the movie was not the actual site of the historical tournament , the little liberties taken by xxmaj disney do not detract from the beauty of the film . xxmaj there 's one little xxmaj disney moment at the pool table ; otherwise , the viewer does not really think xxmaj disney . xxmaj the ending , as in \" xxmaj miracle , \" is not some xxmaj disney creation , but one that only human history could have written .,xxbos i saw this film in a sneak preview , and it is delightful . xxmaj the cinematography is unusually creative , the acting is good , and the story is fabulous . xxmaj if this movie does not do well , it wo n't be because it does n't deserve to . xxmaj before this film , i did n't realize how charming xxmaj shia xxmaj xxunk could be . xxmaj he does a marvelous , self - contained , job as the lead . xxmaj there 's something incredibly sweet about him , and it makes the movie even better . xxmaj the other actors do a good job as well , and the film contains moments of really high suspense , more than one might expect from a movie about golf . xxmaj sports movies are a dime a dozen , but this one stands out . xxmaj this is one i 'd recommend to anyone .,xxbos xxmaj bill xxmaj paxton has taken the true story of the 1913 xxup us golf open and made a film that is about much more than an extra - ordinary game of golf . xxmaj the film also deals directly with the class tensions of the early twentieth century and touches upon the profound anti - xxmaj catholic prejudices of both the xxmaj british and xxmaj american establishments . xxmaj but at heart the film is about that perennial favourite of triumph against the odds . xxmaj the acting is exemplary throughout . xxmaj stephen xxmaj xxunk is excellent as usual , but the revelation of the movie is xxmaj shia xxunk who delivers a disciplined , dignified and highly sympathetic performance as a working class xxmaj franco - xxmaj irish kid fighting his way through the prejudices of the xxmaj new xxmaj england xxup wasp establishment . xxmaj for those who are only familiar with his slap - stick performances in \" xxmaj even xxmaj stevens \" this demonstration of his maturity is a delightful surprise . xxmaj and xxmaj josh xxmaj flitter as the ten year old caddy threatens to steal every scene in which he appears . a old fashioned movie in the best sense of the word : fine acting , clear directing and a great story that grips to the end - the final scene an affectionate nod to xxmaj casablanca is just one of the many pleasures that fill a great movie .\n",
              "y: EmptyLabelList\n",
              ",,,,\n",
              "Path: /content/drive/My Drive/DATA-475/imdb, model=SequentialRNN(\n",
              "  (0): MultiBatchEncoder(\n",
              "    (module): AWD_LSTM(\n",
              "      (encoder): Embedding(44048, 400, padding_idx=1)\n",
              "      (encoder_dp): EmbeddingDropout(\n",
              "        (emb): Embedding(44048, 400, padding_idx=1)\n",
              "      )\n",
              "      (rnns): ModuleList(\n",
              "        (0): WeightDropout(\n",
              "          (module): LSTM(400, 1152, batch_first=True)\n",
              "        )\n",
              "        (1): WeightDropout(\n",
              "          (module): LSTM(1152, 1152, batch_first=True)\n",
              "        )\n",
              "        (2): WeightDropout(\n",
              "          (module): LSTM(1152, 400, batch_first=True)\n",
              "        )\n",
              "      )\n",
              "      (input_dp): RNNDropout()\n",
              "      (hidden_dps): ModuleList(\n",
              "        (0): RNNDropout()\n",
              "        (1): RNNDropout()\n",
              "        (2): RNNDropout()\n",
              "      )\n",
              "    )\n",
              "  )\n",
              "  (1): PoolingLinearClassifier(\n",
              "    (layers): Sequential(\n",
              "      (0): BatchNorm1d(1200, eps=1e-05, momentum=0.1, affine=True, track_running_stats=True)\n",
              "      (1): Dropout(p=0.2, inplace=False)\n",
              "      (2): Linear(in_features=1200, out_features=50, bias=True)\n",
              "      (3): ReLU(inplace=True)\n",
              "      (4): BatchNorm1d(50, eps=1e-05, momentum=0.1, affine=True, track_running_stats=True)\n",
              "      (5): Dropout(p=0.1, inplace=False)\n",
              "      (6): Linear(in_features=50, out_features=2, bias=True)\n",
              "    )\n",
              "  )\n",
              "), opt_func=functools.partial(<class 'torch.optim.adam.Adam'>, betas=(0.9, 0.99)), loss_func=FlattenedLoss of CrossEntropyLoss(), metrics=[<function accuracy at 0x7f352ad7a840>], true_wd=True, bn_wd=True, wd=0.01, train_bn=True, path=PosixPath('/content/drive/My Drive/DATA-475/imdb'), model_dir='models', callback_fns=[functools.partial(<class 'fastai.basic_train.Recorder'>, add_time=True, silent=False)], callbacks=[...], layer_groups=[Sequential(\n",
              "  (0): Embedding(44048, 400, padding_idx=1)\n",
              "  (1): EmbeddingDropout(\n",
              "    (emb): Embedding(44048, 400, padding_idx=1)\n",
              "  )\n",
              "), Sequential(\n",
              "  (0): WeightDropout(\n",
              "    (module): LSTM(400, 1152, batch_first=True)\n",
              "  )\n",
              "  (1): RNNDropout()\n",
              "), Sequential(\n",
              "  (0): WeightDropout(\n",
              "    (module): LSTM(1152, 1152, batch_first=True)\n",
              "  )\n",
              "  (1): RNNDropout()\n",
              "), Sequential(\n",
              "  (0): WeightDropout(\n",
              "    (module): LSTM(1152, 400, batch_first=True)\n",
              "  )\n",
              "  (1): RNNDropout()\n",
              "), Sequential(\n",
              "  (0): PoolingLinearClassifier(\n",
              "    (layers): Sequential(\n",
              "      (0): BatchNorm1d(1200, eps=1e-05, momentum=0.1, affine=True, track_running_stats=True)\n",
              "      (1): Dropout(p=0.2, inplace=False)\n",
              "      (2): Linear(in_features=1200, out_features=50, bias=True)\n",
              "      (3): ReLU(inplace=True)\n",
              "      (4): BatchNorm1d(50, eps=1e-05, momentum=0.1, affine=True, track_running_stats=True)\n",
              "      (5): Dropout(p=0.1, inplace=False)\n",
              "      (6): Linear(in_features=50, out_features=2, bias=True)\n",
              "    )\n",
              "  )\n",
              ")], add_time=True, silent=False)\n",
              "alpha: 2.0\n",
              "beta: 1.0], layer_groups=[Sequential(\n",
              "  (0): Embedding(44048, 400, padding_idx=1)\n",
              "  (1): EmbeddingDropout(\n",
              "    (emb): Embedding(44048, 400, padding_idx=1)\n",
              "  )\n",
              "), Sequential(\n",
              "  (0): WeightDropout(\n",
              "    (module): LSTM(400, 1152, batch_first=True)\n",
              "  )\n",
              "  (1): RNNDropout()\n",
              "), Sequential(\n",
              "  (0): WeightDropout(\n",
              "    (module): LSTM(1152, 1152, batch_first=True)\n",
              "  )\n",
              "  (1): RNNDropout()\n",
              "), Sequential(\n",
              "  (0): WeightDropout(\n",
              "    (module): LSTM(1152, 400, batch_first=True)\n",
              "  )\n",
              "  (1): RNNDropout()\n",
              "), Sequential(\n",
              "  (0): PoolingLinearClassifier(\n",
              "    (layers): Sequential(\n",
              "      (0): BatchNorm1d(1200, eps=1e-05, momentum=0.1, affine=True, track_running_stats=True)\n",
              "      (1): Dropout(p=0.2, inplace=False)\n",
              "      (2): Linear(in_features=1200, out_features=50, bias=True)\n",
              "      (3): ReLU(inplace=True)\n",
              "      (4): BatchNorm1d(50, eps=1e-05, momentum=0.1, affine=True, track_running_stats=True)\n",
              "      (5): Dropout(p=0.1, inplace=False)\n",
              "      (6): Linear(in_features=50, out_features=2, bias=True)\n",
              "    )\n",
              "  )\n",
              ")], add_time=True, silent=False)"
            ]
          },
          "metadata": {
            "tags": []
          },
          "execution_count": 10
        }
      ]
    },
    {
      "cell_type": "code",
      "metadata": {
        "id": "mLL6cVkhOmT4",
        "colab_type": "code",
        "colab": {
          "base_uri": "https://localhost:8080/",
          "height": 408
        },
        "outputId": "8968f6aa-a2fa-42ad-8203-cde53fc2b067"
      },
      "source": [
        "# tune the text_classifier_learner to accpetable accuracy (>80%)\n",
        "clas_learner.lr_find()\n",
        "clas_learner.recorder.plot(suggestion=True)"
      ],
      "execution_count": 11,
      "outputs": [
        {
          "output_type": "display_data",
          "data": {
            "text/html": [
              "\n",
              "    <div>\n",
              "        <style>\n",
              "            /* Turns off some styling */\n",
              "            progress {\n",
              "                /* gets rid of default border in Firefox and Opera. */\n",
              "                border: none;\n",
              "                /* Needs to be in here for Safari polyfill so background images work as expected. */\n",
              "                background-size: auto;\n",
              "            }\n",
              "            .progress-bar-interrupted, .progress-bar-interrupted::-webkit-progress-bar {\n",
              "                background: #F44336;\n",
              "            }\n",
              "        </style>\n",
              "      <progress value='0' class='' max='1' style='width:300px; height:20px; vertical-align: middle;'></progress>\n",
              "      0.00% [0/1 00:00<00:00]\n",
              "    </div>\n",
              "    \n",
              "<table border=\"1\" class=\"dataframe\">\n",
              "  <thead>\n",
              "    <tr style=\"text-align: left;\">\n",
              "      <th>epoch</th>\n",
              "      <th>train_loss</th>\n",
              "      <th>valid_loss</th>\n",
              "      <th>accuracy</th>\n",
              "      <th>time</th>\n",
              "    </tr>\n",
              "  </thead>\n",
              "  <tbody>\n",
              "  </tbody>\n",
              "</table><p>\n",
              "\n",
              "    <div>\n",
              "        <style>\n",
              "            /* Turns off some styling */\n",
              "            progress {\n",
              "                /* gets rid of default border in Firefox and Opera. */\n",
              "                border: none;\n",
              "                /* Needs to be in here for Safari polyfill so background images work as expected. */\n",
              "                background-size: auto;\n",
              "            }\n",
              "            .progress-bar-interrupted, .progress-bar-interrupted::-webkit-progress-bar {\n",
              "                background: #F44336;\n",
              "            }\n",
              "        </style>\n",
              "      <progress value='95' class='' max='624' style='width:300px; height:20px; vertical-align: middle;'></progress>\n",
              "      15.22% [95/624 00:12<01:11 2.4994]\n",
              "    </div>\n",
              "    "
            ],
            "text/plain": [
              "<IPython.core.display.HTML object>"
            ]
          },
          "metadata": {
            "tags": []
          }
        },
        {
          "output_type": "stream",
          "text": [
            "LR Finder is complete, type {learner_name}.recorder.plot() to see the graph.\n",
            "Min numerical gradient: 2.51E-03\n",
            "Min loss divided by 10: 1.74E-02\n"
          ],
          "name": "stdout"
        },
        {
          "output_type": "display_data",
          "data": {
            "image/png": "[encoded data removed]",
            "text/plain": [
              "<Figure size 432x288 with 1 Axes>"
            ]
          },
          "metadata": {
            "tags": [],
            "needs_background": "light"
          }
        }
      ]
    },
    {
      "cell_type": "code",
      "metadata": {
        "id": "SLaSM8UrAXc5",
        "colab_type": "code",
        "colab": {
          "base_uri": "https://localhost:8080/",
          "height": 173
        },
        "outputId": "5298f8bd-aa33-44e0-a13d-0ff1b3412fce"
      },
      "source": [
        "lr = clas_learner.recorder.min_grad_lr\n",
        "clas_learner.fit_one_cycle(4, lr)"
      ],
      "execution_count": 12,
      "outputs": [
        {
          "output_type": "display_data",
          "data": {
            "text/html": [
              "<table border=\"1\" class=\"dataframe\">\n",
              "  <thead>\n",
              "    <tr style=\"text-align: left;\">\n",
              "      <th>epoch</th>\n",
              "      <th>train_loss</th>\n",
              "      <th>valid_loss</th>\n",
              "      <th>accuracy</th>\n",
              "      <th>time</th>\n",
              "    </tr>\n",
              "  </thead>\n",
              "  <tbody>\n",
              "    <tr>\n",
              "      <td>0</td>\n",
              "      <td>0.483464</td>\n",
              "      <td>0.439143</td>\n",
              "      <td>0.789442</td>\n",
              "      <td>01:54</td>\n",
              "    </tr>\n",
              "    <tr>\n",
              "      <td>1</td>\n",
              "      <td>0.475224</td>\n",
              "      <td>0.383653</td>\n",
              "      <td>0.824835</td>\n",
              "      <td>01:52</td>\n",
              "    </tr>\n",
              "    <tr>\n",
              "      <td>2</td>\n",
              "      <td>0.449740</td>\n",
              "      <td>0.374311</td>\n",
              "      <td>0.832234</td>\n",
              "      <td>01:49</td>\n",
              "    </tr>\n",
              "    <tr>\n",
              "      <td>3</td>\n",
              "      <td>0.459750</td>\n",
              "      <td>0.364885</td>\n",
              "      <td>0.843031</td>\n",
              "      <td>01:39</td>\n",
              "    </tr>\n",
              "  </tbody>\n",
              "</table>"
            ],
            "text/plain": [
              "<IPython.core.display.HTML object>"
            ]
          },
          "metadata": {
            "tags": []
          }
        }
      ]
    },
    {
      "cell_type": "code",
      "metadata": {
        "id": "6VHA0eRISBbF",
        "colab_type": "code",
        "colab": {
          "base_uri": "https://localhost:8080/",
          "height": 119
        },
        "outputId": "d04758c6-7633-4145-c30b-9ccfced4964c"
      },
      "source": [
        "clas_learner.predict(\"This is a horrible movie.\")"
      ],
      "execution_count": 13,
      "outputs": [
        {
          "output_type": "stream",
          "text": [
            "/usr/local/lib/python3.6/dist-packages/fastai/text/data.py:339: UserWarning: This overload of nonzero is deprecated:\n",
            "\tnonzero()\n",
            "Consider using one of the following signatures instead:\n",
            "\tnonzero(*, bool as_tuple) (Triggered internally at  /pytorch/torch/csrc/utils/python_arg_parser.cpp:766.)\n",
            "  idx_min = (t != self.pad_idx).nonzero().min()\n"
          ],
          "name": "stderr"
        },
        {
          "output_type": "execute_result",
          "data": {
            "text/plain": [
              "(Category tensor(1), tensor(1), tensor([0.0987, 0.9013]))"
            ]
          },
          "metadata": {
            "tags": []
          },
          "execution_count": 13
        }
      ]
    },
    {
      "cell_type": "code",
      "metadata": {
        "id": "CXgIKlWb-Q8D",
        "colab_type": "code",
        "colab": {
          "base_uri": "https://localhost:8080/",
          "height": 34
        },
        "outputId": "a418a7c9-1db1-41c7-8631-ceb110594470"
      },
      "source": [
        "clas_learner.predict(\"This is a great movie,\")"
      ],
      "execution_count": 14,
      "outputs": [
        {
          "output_type": "execute_result",
          "data": {
            "text/plain": [
              "(Category tensor(1), tensor(1), tensor([2.6069e-04, 9.9974e-01]))"
            ]
          },
          "metadata": {
            "tags": []
          },
          "execution_count": 14
        }
      ]
    },
    {
      "cell_type": "code",
      "metadata": {
        "id": "mazhyIrA-R0m",
        "colab_type": "code",
        "colab": {
          "base_uri": "https://localhost:8080/",
          "height": 34
        },
        "outputId": "95b5f54d-6af4-4ca6-a6fc-e57cf1a88283"
      },
      "source": [
        "# Check the label mapping\n",
        "# suppose it returns {'negative': 0, 'positive': 1}\n",
        "data_clas.train_ds.y.c2i"
      ],
      "execution_count": 15,
      "outputs": [
        {
          "output_type": "execute_result",
          "data": {
            "text/plain": [
              "{'negative': 0, 'positive': 1}"
            ]
          },
          "metadata": {
            "tags": []
          },
          "execution_count": 15
        }
      ]
    },
    {
      "cell_type": "code",
      "metadata": {
        "id": "-YRl2rhMPvuW",
        "colab_type": "code",
        "colab": {}
      },
      "source": [
        "import pandas as pd\n",
        "\n",
        "\n",
        "df = pd.read_csv(path+\"/test.csv\")\n",
        "y_true = tensor(df[\"sentiment\"]==\"positive\")"
      ],
      "execution_count": 16,
      "outputs": []
    },
    {
      "cell_type": "code",
      "metadata": {
        "id": "oRekyOZ-1qQ1",
        "colab_type": "code",
        "colab": {
          "base_uri": "https://localhost:8080/",
          "height": 311
        },
        "outputId": "4a4d69a7-54b6-4a76-dc74-79a1ba7aab29"
      },
      "source": [
        "interp = TextClassificationInterpretation.from_learner(\n",
        "    clas_learner, \n",
        "    ds_type=DatasetType.Test\n",
        ")\n",
        "interp.y_true = tensor(df[\"sentiment\"]==\"positive\")\n",
        "interp.plot_confusion_matrix()"
      ],
      "execution_count": 17,
      "outputs": [
        {
          "output_type": "display_data",
          "data": {
            "text/html": [
              ""
            ],
            "text/plain": [
              "<IPython.core.display.HTML object>"
            ]
          },
          "metadata": {
            "tags": []
          }
        },
        {
          "output_type": "display_data",
          "data": {
            "image/png": "[encoded data removed]",
            "text/plain": [
              "<Figure size 432x288 with 1 Axes>"
            ]
          },
          "metadata": {
            "tags": [],
            "needs_background": "light"
          }
        }
      ]
    },
    {
      "cell_type": "code",
      "metadata": {
        "id": "Ov9w-uNT8Ldd",
        "colab_type": "code",
        "colab": {
          "base_uri": "https://localhost:8080/",
          "height": 34
        },
        "outputId": "468c3461-866c-4fec-c00a-ccaa8d7ee144"
      },
      "source": [
        "from fastai.metrics import accuracy\n",
        "\n",
        "accuracy(interp.preds, interp.y_true)"
      ],
      "execution_count": 18,
      "outputs": [
        {
          "output_type": "execute_result",
          "data": {
            "text/plain": [
              "tensor(0.8378)"
            ]
          },
          "metadata": {
            "tags": []
          },
          "execution_count": 18
        }
      ]
    }
  ]
}